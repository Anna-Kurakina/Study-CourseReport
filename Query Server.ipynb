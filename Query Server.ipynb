{
 "cells": [
  {
   "cell_type": "code",
   "execution_count": 1,
   "id": "f54a590e-a8ad-4c27-abd2-81fc62204ccc",
   "metadata": {},
   "outputs": [
    {
     "name": "stdout",
     "output_type": "stream",
     "text": [
      "Requirement already satisfied: rdflib in e:\\nz\\venvpython11\\lib\\site-packages (7.0.0)\n",
      "Requirement already satisfied: isodate<0.7.0,>=0.6.0 in e:\\nz\\venvpython11\\lib\\site-packages (from rdflib) (0.6.1)\n",
      "Requirement already satisfied: pyparsing<4,>=2.1.0 in e:\\nz\\venvpython11\\lib\\site-packages (from rdflib) (3.1.1)\n",
      "Requirement already satisfied: six in e:\\nz\\venvpython11\\lib\\site-packages (from isodate<0.7.0,>=0.6.0->rdflib) (1.16.0)\n"
     ]
    }
   ],
   "source": [
    "!pip install rdflib"
   ]
  },
  {
   "cell_type": "code",
   "execution_count": null,
   "id": "42157a5e-4af8-418d-be9b-dc32667db70b",
   "metadata": {},
   "outputs": [
    {
     "name": "stdout",
     "output_type": "stream",
     "text": [
      "['90']\n",
      "Connection to ('100.83.91.135', 50604) has been established\n"
     ]
    }
   ],
   "source": [
    "import socket\n",
    "import pickle\n",
    "import rdflib\n",
    "from rdflib import *\n",
    "import plotly.graph_objects as go\n",
    "from rdflib import URIRef, Graph, Namespace\n",
    "from rdflib.plugins.parsers.notation3 import N3Parser\n",
    "from socket import SHUT_RDWR\n",
    "\n",
    "g = rdflib.Graph()\n",
    "result = g.parse(file=open(\"KB-DigitRecognition_v2.n3\", \"r\"), format=\"text/n3\")\n",
    "\n",
    "queryformula = g.query(\n",
    "    \"\"\"SELECT DISTINCT ?accuracy\n",
    "       WHERE {\n",
    "            ?ind rdf:type classes:Interval.\n",
    "            ?ind prop:hasMin ?accuracy.\n",
    "       }\"\"\")\n",
    "\n",
    "accuracy=[]\n",
    "\n",
    "for row in queryformula:\n",
    "    accuracy.append(str(row.asdict()['accuracy'].toPython()))\n",
    "\n",
    "print(accuracy)\n",
    "\n",
    "a=10\n",
    "s=socket.socket(socket.AF_INET, socket.SOCK_STREAM)\n",
    "s.setsockopt(socket.SOL_SOCKET, socket.SO_REUSEADDR, 1)\n",
    "s.bind((socket.gethostname(),1024))\t\t\t\t\t#binding tuple\n",
    "s.listen(5)\n",
    "while True:\n",
    "\tclt,adr = s.accept()\n",
    "\tprint(f\"Connection to {adr} has been established\")\n",
    "\n",
    "\tm=accuracy\n",
    "\tmymsg = pickle.dumps(m)\t\t\t#the msg we want to print later\n",
    "\tmymsg = bytes(f'{len(mymsg) :<{a}}',\"utf-8\") + mymsg\n",
    "\tclt.send(mymsg)\n",
    "clt.close()\n",
    "print(\"CLT Closed\")\n",
    "s.close()\n"
   ]
  },
  {
   "cell_type": "code",
   "execution_count": null,
   "id": "f4246087-3055-4d3c-8263-da1a2d1086c7",
   "metadata": {},
   "outputs": [],
   "source": []
  }
 ],
 "metadata": {
  "kernelspec": {
   "display_name": "Python 3 (ipykernel)",
   "language": "python",
   "name": "python3"
  },
  "language_info": {
   "codemirror_mode": {
    "name": "ipython",
    "version": 3
   },
   "file_extension": ".py",
   "mimetype": "text/x-python",
   "name": "python",
   "nbconvert_exporter": "python",
   "pygments_lexer": "ipython3",
   "version": "3.11.7"
  },
  "widgets": {
   "application/vnd.jupyter.widget-state+json": {
    "state": {},
    "version_major": 2,
    "version_minor": 0
   }
  }
 },
 "nbformat": 4,
 "nbformat_minor": 5
}
