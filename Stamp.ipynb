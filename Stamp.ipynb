{
 "cells": [
  {
   "cell_type": "code",
   "execution_count": 1,
   "id": "bd918510-1ce7-44ef-8fba-8067f0984cb1",
   "metadata": {
    "id": "bd918510-1ce7-44ef-8fba-8067f0984cb1"
   },
   "outputs": [
    {
     "name": "stdout",
     "output_type": "stream",
     "text": [
      "2.14.0\n"
     ]
    }
   ],
   "source": [
    "import cv2\n",
    "import numpy as np\n",
    "import tensorflow as tf\n",
    "import os\n",
    "import matplotlib.pyplot as plt\n",
    "# from google.colab.patches import cv2_imshow\n",
    "# from PIL import Image\n",
    "# import plotly.express as px\n",
    "import warnings\n",
    "warnings.filterwarnings('ignore')\n",
    "from scipy.ndimage import center_of_mass\n",
    "import math \n",
    "from plotly.subplots import make_subplots\n",
    "print(tf.__version__)"
   ]
  },
  {
   "cell_type": "code",
   "execution_count": 2,
   "id": "6cc0776f-f3f2-4e89-a6e6-93af61c268aa",
   "metadata": {
    "colab": {
     "base_uri": "https://localhost:8080/",
     "height": 226
    },
    "id": "6cc0776f-f3f2-4e89-a6e6-93af61c268aa",
    "outputId": "24c76835-0871-4f52-9518-2276ff116e1d"
   },
   "outputs": [
    {
     "ename": "OSError",
     "evalue": "No file or directory found at ideal_my.h5",
     "output_type": "error",
     "traceback": [
      "\u001b[1;31m---------------------------------------------------------------------------\u001b[0m",
      "\u001b[1;31mOSError\u001b[0m                                   Traceback (most recent call last)",
      "Cell \u001b[1;32mIn[2], line 1\u001b[0m\n\u001b[1;32m----> 1\u001b[0m model \u001b[38;5;241m=\u001b[39m \u001b[43mtf\u001b[49m\u001b[38;5;241;43m.\u001b[39;49m\u001b[43mkeras\u001b[49m\u001b[38;5;241;43m.\u001b[39;49m\u001b[43mmodels\u001b[49m\u001b[38;5;241;43m.\u001b[39;49m\u001b[43mload_model\u001b[49m\u001b[43m(\u001b[49m\u001b[38;5;124;43m'\u001b[39;49m\u001b[38;5;124;43mideal_my.h5\u001b[39;49m\u001b[38;5;124;43m'\u001b[39;49m\u001b[43m)\u001b[49m\n\u001b[0;32m      3\u001b[0m image_number \u001b[38;5;241m=\u001b[39m \u001b[38;5;124m'\u001b[39m\u001b[38;5;124m30-1\u001b[39m\u001b[38;5;124m'\u001b[39m\n\u001b[0;32m      5\u001b[0m \u001b[38;5;66;03m# Load the image\u001b[39;00m\n",
      "File \u001b[1;32mE:\\NZ\\VenvPython11\\Lib\\site-packages\\keras\\src\\saving\\saving_api.py:262\u001b[0m, in \u001b[0;36mload_model\u001b[1;34m(filepath, custom_objects, compile, safe_mode, **kwargs)\u001b[0m\n\u001b[0;32m    254\u001b[0m     \u001b[38;5;28;01mreturn\u001b[39;00m saving_lib\u001b[38;5;241m.\u001b[39mload_model(\n\u001b[0;32m    255\u001b[0m         filepath,\n\u001b[0;32m    256\u001b[0m         custom_objects\u001b[38;5;241m=\u001b[39mcustom_objects,\n\u001b[0;32m    257\u001b[0m         \u001b[38;5;28mcompile\u001b[39m\u001b[38;5;241m=\u001b[39m\u001b[38;5;28mcompile\u001b[39m,\n\u001b[0;32m    258\u001b[0m         safe_mode\u001b[38;5;241m=\u001b[39msafe_mode,\n\u001b[0;32m    259\u001b[0m     )\n\u001b[0;32m    261\u001b[0m \u001b[38;5;66;03m# Legacy case.\u001b[39;00m\n\u001b[1;32m--> 262\u001b[0m \u001b[38;5;28;01mreturn\u001b[39;00m \u001b[43mlegacy_sm_saving_lib\u001b[49m\u001b[38;5;241;43m.\u001b[39;49m\u001b[43mload_model\u001b[49m\u001b[43m(\u001b[49m\n\u001b[0;32m    263\u001b[0m \u001b[43m    \u001b[49m\u001b[43mfilepath\u001b[49m\u001b[43m,\u001b[49m\u001b[43m \u001b[49m\u001b[43mcustom_objects\u001b[49m\u001b[38;5;241;43m=\u001b[39;49m\u001b[43mcustom_objects\u001b[49m\u001b[43m,\u001b[49m\u001b[43m \u001b[49m\u001b[38;5;28;43mcompile\u001b[39;49m\u001b[38;5;241;43m=\u001b[39;49m\u001b[38;5;28;43mcompile\u001b[39;49m\u001b[43m,\u001b[49m\u001b[43m \u001b[49m\u001b[38;5;241;43m*\u001b[39;49m\u001b[38;5;241;43m*\u001b[39;49m\u001b[43mkwargs\u001b[49m\n\u001b[0;32m    264\u001b[0m \u001b[43m\u001b[49m\u001b[43m)\u001b[49m\n",
      "File \u001b[1;32mE:\\NZ\\VenvPython11\\Lib\\site-packages\\keras\\src\\utils\\traceback_utils.py:70\u001b[0m, in \u001b[0;36mfilter_traceback.<locals>.error_handler\u001b[1;34m(*args, **kwargs)\u001b[0m\n\u001b[0;32m     67\u001b[0m     filtered_tb \u001b[38;5;241m=\u001b[39m _process_traceback_frames(e\u001b[38;5;241m.\u001b[39m__traceback__)\n\u001b[0;32m     68\u001b[0m     \u001b[38;5;66;03m# To get the full stack trace, call:\u001b[39;00m\n\u001b[0;32m     69\u001b[0m     \u001b[38;5;66;03m# `tf.debugging.disable_traceback_filtering()`\u001b[39;00m\n\u001b[1;32m---> 70\u001b[0m     \u001b[38;5;28;01mraise\u001b[39;00m e\u001b[38;5;241m.\u001b[39mwith_traceback(filtered_tb) \u001b[38;5;28;01mfrom\u001b[39;00m \u001b[38;5;28;01mNone\u001b[39;00m\n\u001b[0;32m     71\u001b[0m \u001b[38;5;28;01mfinally\u001b[39;00m:\n\u001b[0;32m     72\u001b[0m     \u001b[38;5;28;01mdel\u001b[39;00m filtered_tb\n",
      "File \u001b[1;32mE:\\NZ\\VenvPython11\\Lib\\site-packages\\keras\\src\\saving\\legacy\\save.py:234\u001b[0m, in \u001b[0;36mload_model\u001b[1;34m(filepath, custom_objects, compile, options)\u001b[0m\n\u001b[0;32m    232\u001b[0m \u001b[38;5;28;01mif\u001b[39;00m \u001b[38;5;28misinstance\u001b[39m(filepath_str, \u001b[38;5;28mstr\u001b[39m):\n\u001b[0;32m    233\u001b[0m     \u001b[38;5;28;01mif\u001b[39;00m \u001b[38;5;129;01mnot\u001b[39;00m tf\u001b[38;5;241m.\u001b[39mio\u001b[38;5;241m.\u001b[39mgfile\u001b[38;5;241m.\u001b[39mexists(filepath_str):\n\u001b[1;32m--> 234\u001b[0m         \u001b[38;5;28;01mraise\u001b[39;00m \u001b[38;5;167;01mIOError\u001b[39;00m(\n\u001b[0;32m    235\u001b[0m             \u001b[38;5;124mf\u001b[39m\u001b[38;5;124m\"\u001b[39m\u001b[38;5;124mNo file or directory found at \u001b[39m\u001b[38;5;132;01m{\u001b[39;00mfilepath_str\u001b[38;5;132;01m}\u001b[39;00m\u001b[38;5;124m\"\u001b[39m\n\u001b[0;32m    236\u001b[0m         )\n\u001b[0;32m    238\u001b[0m     \u001b[38;5;28;01mif\u001b[39;00m tf\u001b[38;5;241m.\u001b[39mio\u001b[38;5;241m.\u001b[39mgfile\u001b[38;5;241m.\u001b[39misdir(filepath_str):\n\u001b[0;32m    239\u001b[0m         \u001b[38;5;28;01mreturn\u001b[39;00m saved_model_load\u001b[38;5;241m.\u001b[39mload(\n\u001b[0;32m    240\u001b[0m             filepath_str, \u001b[38;5;28mcompile\u001b[39m, options\n\u001b[0;32m    241\u001b[0m         )\n",
      "\u001b[1;31mOSError\u001b[0m: No file or directory found at ideal_my.h5"
     ]
    }
   ],
   "source": [
    "model = tf.keras.models.load_model('model.h5')\n",
    "\n",
    "image_number = '30-1'\n",
    "\n",
    "# Load the image\n",
    "img = cv2.imread(f\"{image_number}.png\")\n",
    "# cv2_imshow(img)\n",
    "\n",
    "# im = Image.open(f\"{image_number}.jpg\")\n",
    "# im.show()\n",
    "plt.imshow(img)"
   ]
  },
  {
   "cell_type": "code",
   "execution_count": null,
   "id": "79a0c3bd-5732-4a6c-a5cd-d8031b02424a",
   "metadata": {},
   "outputs": [],
   "source": [
    "# zoom_factor=3\n",
    "# img = cv2.resize(img, None, fx=zoom_factor, fy=zoom_factor)\n",
    "# plt.imshow(img)"
   ]
  },
  {
   "cell_type": "code",
   "execution_count": null,
   "id": "MsWu_ZmUq2i7",
   "metadata": {
    "colab": {
     "base_uri": "https://localhost:8080/",
     "height": 226
    },
    "id": "MsWu_ZmUq2i7",
    "outputId": "fae11dcd-70ae-4185-b2bc-29b39a6a4a58"
   },
   "outputs": [],
   "source": [
    "grayImage = cv2.cvtColor(img, cv2.COLOR_BGR2GRAY)\n",
    "# grayImage = cv2.bilateralFilter(grayImage,9,75,75)\n"
   ]
  },
  {
   "cell_type": "code",
   "execution_count": null,
   "id": "vbgupVaDFnYs",
   "metadata": {
    "colab": {
     "base_uri": "https://localhost:8080/",
     "height": 226
    },
    "id": "vbgupVaDFnYs",
    "outputId": "b216632c-1e89-4e4c-d181-0294d205f571"
   },
   "outputs": [],
   "source": [
    "(_, blackAndWhiteImage) = cv2.threshold(grayImage, 127, 255, cv2.THRESH_BINARY)\n",
    "\n",
    "# cv2_imshow(blackAndWhiteImage)\n",
    "plt.imshow(blackAndWhiteImage)\n",
    "plt.show()\n",
    "\n",
    "# thresh1 = cv2.adaptiveThreshold(grayImage, 255, cv2.ADAPTIVE_THRESH_GAUSSIAN_C, cv2.THRESH_BINARY_INV, 11, 2)\n",
    "thresh = cv2.bitwise_not(blackAndWhiteImage)\n",
    "# cv2_imshow(thresh)\n",
    "plt.imshow(thresh)\n",
    "plt.show()\n"
   ]
  },
  {
   "cell_type": "code",
   "execution_count": null,
   "id": "0ba9822a-288a-461f-ab4b-5b1d0c83b265",
   "metadata": {},
   "outputs": [],
   "source": [
    "thresh = cv2.GaussianBlur(thresh,(5,5),0)"
   ]
  },
  {
   "cell_type": "code",
   "execution_count": null,
   "id": "7b7fb7da-4f71-4988-874e-8a579c0adf75",
   "metadata": {
    "id": "7b7fb7da-4f71-4988-874e-8a579c0adf75"
   },
   "outputs": [],
   "source": [
    "    # Find the contours of the digits\n",
    "contours, hierarchy = cv2.findContours(thresh, cv2.RETR_EXTERNAL, cv2.CHAIN_APPROX_SIMPLE)"
   ]
  },
  {
   "cell_type": "code",
   "execution_count": null,
   "id": "cd462cda-af63-4ce8-9538-e94c3e253d23",
   "metadata": {
    "colab": {
     "base_uri": "https://localhost:8080/",
     "height": 402
    },
    "id": "cd462cda-af63-4ce8-9538-e94c3e253d23",
    "outputId": "141a6d18-84e6-480b-e7f7-0709eeac3110"
   },
   "outputs": [],
   "source": [
    "  # Extract the digits from the image and recognize them\n",
    "names = []\n",
    "images = []\n",
    "\n",
    "output = img.copy()\n",
    "letters = []\n",
    "for i, contour in enumerate(contours):\n",
    "        # Extract the bounding box of the digit\n",
    "        x, y, w, h = cv2.boundingRect(contour)\n",
    "        # if hierarchy[0][i][3] == 0:\n",
    "        #     cv2.rectangle(output, (x, y), (x + w, y + h), (70, 0, 0), 1)\n",
    "        #Filter out small and large components\n",
    "\n",
    "    \n",
    "        # if w * h < 10250 or w * h > 14850:\n",
    "        #     continue\n",
    "\n",
    "    \n",
    "        # Extract the digit from the image\n",
    "        digit = thresh[y:y+h, x:x+w]\n",
    "\n",
    "        # Save the digit to a file\n",
    "        # filename = f\"{i}_digit.jpg\"\n",
    "        # filepath = os.path.join(output_dir, filename)\n",
    "        # filepath = \"//content/drive/MyDrive\"\n",
    "        # cv2.imwrite(filepath, digit)\n",
    "\n",
    "        # Resize the digit and preprocess it for recognition\n",
    "        digit = cv2.resize(digit, (28, 28), interpolation=cv2.INTER_AREA)\n",
    "        digit = tf.keras.utils.normalize(digit, axis = 1)\n",
    "        digit = digit.reshape(-1, 28, 28, 1)\n",
    "\n",
    "        # Recognize the digit using the model\n",
    "        prediction = model.predict(digit)\n",
    "        digit_class = np.argmax(prediction)\n",
    "        letters.append([x, y+h, digit.reshape(28, 28), digit_class])\n",
    "\n",
    "letters.sort(key=lambda x: (x[0], x[1]), reverse=False)\n",
    "\n",
    "for el in letters:\n",
    "    images.append(el[2])\n",
    "    names.append(el[3])\n",
    "\n",
    "# cv2_imshow(img)\n",
    "plt.imshow(img)\n",
    "i = 1\n",
    "\n",
    "# create figure\n",
    "fig = plt.figure(figsize=(10, 10))\n",
    "\n",
    "# setting values to rows and column variables\n",
    "rows = 2\n",
    "columns = 7\n",
    "\n",
    "for img, name in zip(images, names):\n",
    "# show image\n",
    "    fig.add_subplot(rows, columns, i)\n",
    "    plt.style.use('grayscale')\n",
    "    plt.imshow(img)\n",
    "    plt.axis('off')\n",
    "    plt.title(str(name))\n",
    "    i += 1\n",
    "    # plt.grid(False)\n",
    "    # plt.style.use('dark_background')\n",
    "   "
   ]
  },
  {
   "cell_type": "code",
   "execution_count": null,
   "id": "d4682cd9-b926-4249-aa5f-0eb078917349",
   "metadata": {},
   "outputs": [],
   "source": []
  }
 ],
 "metadata": {
  "colab": {
   "provenance": []
  },
  "kernelspec": {
   "display_name": "Python 3 (ipykernel)",
   "language": "python",
   "name": "python3"
  },
  "language_info": {
   "codemirror_mode": {
    "name": "ipython",
    "version": 3
   },
   "file_extension": ".py",
   "mimetype": "text/x-python",
   "name": "python",
   "nbconvert_exporter": "python",
   "pygments_lexer": "ipython3",
   "version": "3.11.7"
  },
  "widgets": {
   "application/vnd.jupyter.widget-state+json": {
    "state": {},
    "version_major": 2,
    "version_minor": 0
   }
  }
 },
 "nbformat": 4,
 "nbformat_minor": 5
}
